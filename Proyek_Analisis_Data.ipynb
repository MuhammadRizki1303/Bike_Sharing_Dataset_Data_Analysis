{
  "cells": [
    {
      "cell_type": "markdown",
      "metadata": {
        "id": "H9wADwK78DCz"
      },
      "source": [
        "# Proyek Analisis Data: [Bike Sharing Dataset]\n",
        "- **Nama:** [Muhammad Rizki]\n",
        "- **Email:** [muhammad.rizki130304@gmail.com]\n",
        "- **ID Dicoding:** [Muhammad Rizki]\n",
        "- **ID Cohort:** [MC130D5Y0184]"
      ]
    },
    {
      "cell_type": "code",
      "execution_count": null,
      "metadata": {},
      "outputs": [],
      "source": []
    },
    {
      "cell_type": "markdown",
      "metadata": {
        "id": "eE0raob58DC0"
      },
      "source": [
        "## Menentukan Pertanyaan Bisnis"
      ]
    },
    {
      "cell_type": "markdown",
      "metadata": {
        "id": "GmQeQ5YF8DC0"
      },
      "source": [
        "- Bagaimana tren penyewaan sepeda berdasarkan hari kerja dan akhir pekan?\n",
        "- Bagaimana pengaruh suhu terhadap jumlah penyewaan sepeda?"
      ]
    },
    {
      "cell_type": "markdown",
      "metadata": {
        "id": "H-z4QGlO8DC1"
      },
      "source": [
        "## Import Semua Packages/Library yang Digunakan"
      ]
    },
    {
      "cell_type": "code",
      "execution_count": null,
      "metadata": {
        "id": "FVYwaObI8DC1"
      },
      "outputs": [],
      "source": [
        "import streamlit as st\n",
        "import numpy as np\n",
        "import pandas as pd\n",
        "import matplotlib\n",
        "matplotlib.use('Agg')  \n",
        "import matplotlib.pyplot as plt\n",
        "import seaborn as sns\n",
        "import os"
      ]
    },
    {
      "cell_type": "markdown",
      "metadata": {
        "id": "h_Sh51Xy8DC1"
      },
      "source": [
        "## Data Wrangling"
      ]
    },
    {
      "cell_type": "markdown",
      "metadata": {
        "id": "sXU2GBYu8DC1"
      },
      "source": [
        "### Gathering Data"
      ]
    },
    {
      "cell_type": "code",
      "execution_count": null,
      "metadata": {
        "id": "zjCBk1BI8DC1"
      },
      "outputs": [],
      "source": [
        "@st.cache_data\n",
        "def load_data():\n",
        "    base_path = \"Bike Sharing Dataset\"\n",
        "    day_df = pd.read_csv(os.path.join(base_path, \"day.csv\"))\n",
        "    hour_df = pd.read_csv(os.path.join(base_path, \"hour.csv\"))\n",
        "    \n",
        "    # Menghapus kolom yang tidak diperlukan\n",
        "    for df in [day_df, hour_df]:\n",
        "        df.drop(['workingday'], axis=1, inplace=True)\n",
        "    \n",
        "    # Mengubah tipe data menjadi kategori\n",
        "    kategori_kolom = ['season', 'mnth', 'holiday', 'weekday', 'weathersit']\n",
        "    for df in [day_df, hour_df]:\n",
        "        for col in kategori_kolom:\n",
        "            df[col] = df[col].astype(\"category\")\n",
        "    \n",
        "    # Mengubah tipe data tanggal\n",
        "    for df in [day_df, hour_df]:\n",
        "        df['dteday'] = pd.to_datetime(df['dteday'])\n",
        "    \n",
        "    return day_df, hour_df\n",
        "\n",
        "day_df, hour_df = load_data()"
      ]
    },
    {
      "cell_type": "markdown",
      "metadata": {
        "id": "MMi6xGaDkbCi"
      },
      "source": [
        "**Insight:**\n",
        "- Data berhasil dimuat dari file day.csv dan hour.csv.\n",
        "- Kolom workingday dihapus karena tidak digunakan.\n",
        "- Kolom kategori dikonversi ke tipe data kategori."
      ]
    },
    {
      "cell_type": "markdown",
      "metadata": {
        "id": "FHSiqaZp8DC1"
      },
      "source": [
        "### Assessing Data"
      ]
    },
    {
      "cell_type": "code",
      "execution_count": null,
      "metadata": {
        "id": "ax-3tEjc9Cj1"
      },
      "outputs": [],
      "source": [
        "print(day_df.info())\n",
        "print(hour_df.info())"
      ]
    },
    {
      "cell_type": "markdown",
      "metadata": {
        "id": "7dtxhAPrkhPL"
      },
      "source": [
        "**Insight:**\n",
        "- Tipe data sudah sesuai dengan kebutuhan analisis.\n",
        "- Tidak ditemukan missing values."
      ]
    },
    {
      "cell_type": "markdown",
      "metadata": {
        "id": "EhN5R4hr8DC1"
      },
      "source": [
        "### Cleaning Data"
      ]
    },
    {
      "cell_type": "code",
      "execution_count": null,
      "metadata": {
        "id": "jVnYpprE9Evz"
      },
      "outputs": [],
      "source": [
        "rename_dict = {\n",
        "    'yr': 'year',\n",
        "    'mnth': 'month',\n",
        "    'weekday': 'day_of_week',\n",
        "    'weathersit': 'weather_situation',\n",
        "    'windspeed': 'wind_speed',\n",
        "    'cnt': 'total_rentals',\n",
        "    'hum': 'humidity'\n",
        "}\n",
        "day_df.rename(columns=rename_dict, inplace=True)\n",
        "hour_df.rename(columns={**rename_dict, 'hr': 'hour'}, inplace=True)"
      ]
    },
    {
      "cell_type": "markdown",
      "metadata": {
        "id": "Q_5ejIqckiSP"
      },
      "source": [
        "**Insight:**\n",
        "- Nama kolom diubah agar lebih mudah dipahami.\n",
        "- Tidak ditemukan data duplikat."
      ]
    },
    {
      "cell_type": "markdown",
      "metadata": {
        "id": "gp-Y6wU38DC1"
      },
      "source": [
        "## Exploratory Data Analysis (EDA)"
      ]
    },
    {
      "cell_type": "markdown",
      "metadata": {
        "id": "MW7WF2kr8DC1"
      },
      "source": [
        "### Explore ..."
      ]
    },
    {
      "cell_type": "code",
      "execution_count": null,
      "metadata": {
        "id": "e9CQCZjk8DC2"
      },
      "outputs": [],
      "source": [
        "hourly_count = hour_df.groupby('hour')['total_rentals'].sum().reset_index()\n",
        "fig, ax = plt.subplots(figsize=(10, 5))\n",
        "sns.barplot(x='hour', y='total_rentals', data=hourly_count, ax=ax, palette='viridis')\n",
        "ax.set_xlabel(\"Jam\")\n",
        "ax.set_ylabel(\"Jumlah Penyewaan\")\n",
        "st.pyplot(fig)\n"
      ]
    },
    {
      "cell_type": "markdown",
      "metadata": {
        "id": "th_Lzl2Fkj9O"
      },
      "source": [
        "**Insight:**\n",
        "- Penyewaan sepeda meningkat pada jam sibuk pagi dan sore.\n"
      ]
    },
    {
      "cell_type": "markdown",
      "metadata": {
        "id": "zsyZjqak8DC2"
      },
      "source": [
        "## Visualization & Explanatory Analysis"
      ]
    },
    {
      "cell_type": "markdown",
      "metadata": {
        "id": "HZxOiQ6n8DC2"
      },
      "source": [
        "### Pertanyaan 1:\n",
        "- Bagaimana tren jumlah penyewaan sepeda berdasarkan hari kerja dan akhir pekan?"
      ]
    },
    {
      "cell_type": "code",
      "execution_count": null,
      "metadata": {
        "id": "1swJUdAD8DC2"
      },
      "outputs": [],
      "source": [
        "day_category_count = day_df.groupby(\"day_category\")[\"total_rentals\"].sum().reset_index()\n",
        "\n",
        "fig, ax = plt.subplots(figsize=(8, 5))\n",
        "sns.barplot(x=\"day_category\", y=\"total_rentals\", data=day_category_count, ax=ax, palette=\"coolwarm\")\n",
        "ax.set_xlabel(\"Kategori Hari\")\n",
        "ax.set_ylabel(\"Total Penyewaan\")\n",
        "st.pyplot(fig)\n"
      ]
    },
    {
      "cell_type": "markdown",
      "metadata": {},
      "source": [
        "**Insight:**\n",
        "- Penyewaan lebih tinggi pada hari kerja dibanding akhir pekan."
      ]
    },
    {
      "cell_type": "markdown",
      "metadata": {
        "id": "DgHI7CiU8DC2"
      },
      "source": [
        "### Pertanyaan 2:\n",
        "- Bagaimana pengaruh suhu terhadap jumlah penyewaan sepeda?"
      ]
    },
    {
      "cell_type": "code",
      "execution_count": null,
      "metadata": {
        "id": "Go0lCsvO8DC2"
      },
      "outputs": [],
      "source": [
        "fig, ax = plt.subplots(figsize=(8, 5))\n",
        "sns.scatterplot(x=day_df[\"temp\"], y=day_df[\"total_rentals\"], alpha=0.6, ax=ax)\n",
        "ax.set_xlabel(\"Suhu (Normalized)\")\n",
        "ax.set_ylabel(\"Total Penyewaan\")\n",
        "st.pyplot(fig)"
      ]
    },
    {
      "cell_type": "markdown",
      "metadata": {
        "id": "_0-36BDLklRg"
      },
      "source": [
        "**Insight:**\n",
        "- Semakin tinggi suhu, jumlah penyewaan cenderung meningkat.\n"
      ]
    },
    {
      "cell_type": "markdown",
      "metadata": {
        "id": "9y4VUsmcYNZ5"
      },
      "source": [
        "## Analisis Lanjutan (Opsional)"
      ]
    },
    {
      "cell_type": "code",
      "execution_count": null,
      "metadata": {
        "id": "iWhnzsJGYUCO"
      },
      "outputs": [],
      "source": []
    },
    {
      "cell_type": "markdown",
      "metadata": {
        "id": "_WeHlCeX8DC2"
      },
      "source": [
        "## Conclusion"
      ]
    },
    {
      "cell_type": "markdown",
      "metadata": {
        "id": "ZTcyR48Y8DC2"
      },
      "source": [
        "- Penyewaan lebih tinggi terjadi pada hari kerja dibanding akhir pekan.\n",
        "- Penyewaan cenderung meningkat saat suhu lebih hangat."
      ]
    }
  ],
  "metadata": {
    "colab": {
      "provenance": []
    },
    "kernelspec": {
      "display_name": "Python 3",
      "language": "python",
      "name": "python3"
    },
    "language_info": {
      "name": "python",
      "version": "3.8.0 (tags/v3.8.0:fa919fd, Oct 14 2019, 19:21:23) [MSC v.1916 32 bit (Intel)]"
    },
    "orig_nbformat": 4,
    "vscode": {
      "interpreter": {
        "hash": "972b3bf27e332e87b5379f2791f6ef9dfc79c71018c370b0d7423235e20fe4d7"
      }
    }
  },
  "nbformat": 4,
  "nbformat_minor": 0
}
